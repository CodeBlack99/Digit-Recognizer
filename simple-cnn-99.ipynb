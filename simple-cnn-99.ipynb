{
 "cells": [
  {
   "cell_type": "code",
   "execution_count": 1,
   "id": "4ea9c82c",
   "metadata": {
    "_cell_guid": "b1076dfc-b9ad-4769-8c92-a6c4dae69d19",
    "_uuid": "8f2839f25d086af736a60e9eeb907d3b93b6e0e5",
    "execution": {
     "iopub.execute_input": "2023-04-05T03:50:26.075327Z",
     "iopub.status.busy": "2023-04-05T03:50:26.073977Z",
     "iopub.status.idle": "2023-04-05T03:50:27.362182Z",
     "shell.execute_reply": "2023-04-05T03:50:27.360882Z"
    },
    "papermill": {
     "duration": 1.303325,
     "end_time": "2023-04-05T03:50:27.365056",
     "exception": false,
     "start_time": "2023-04-05T03:50:26.061731",
     "status": "completed"
    },
    "tags": []
   },
   "outputs": [
    {
     "name": "stdout",
     "output_type": "stream",
     "text": [
      "/kaggle/input/digit-recognizer/sample_submission.csv\n",
      "/kaggle/input/digit-recognizer/train.csv\n",
      "/kaggle/input/digit-recognizer/test.csv\n"
     ]
    }
   ],
   "source": [
    "# This Python 3 environment comes with many helpful analytics libraries installed\n",
    "# It is defined by the kaggle/python Docker image: https://github.com/kaggle/docker-python\n",
    "# For example, here's several helpful packages to load\n",
    "\n",
    "import numpy as np # linear algebra\n",
    "import pandas as pd # data processing, CSV file I/O (e.g. pd.read_csv)\n",
    "import matplotlib.pyplot as plt\n",
    "import seaborn as sns\n",
    "\n",
    "# Input data files are available in the read-only \"../input/\" directory\n",
    "# For example, running this (by clicking run or pressing Shift+Enter) will list all files under the input directory\n",
    "\n",
    "import os\n",
    "for dirname, _, filenames in os.walk('/kaggle/input'):\n",
    "    for filename in filenames:\n",
    "        print(os.path.join(dirname, filename))\n",
    "\n",
    "# You can write up to 20GB to the current directory (/kaggle/working/) that gets preserved as output when you create a version using \"Save & Run All\" \n",
    "# You can also write temporary files to /kaggle/temp/, but they won't be saved outside of the current session"
   ]
  },
  {
   "cell_type": "code",
   "execution_count": 2,
   "id": "9245594f",
   "metadata": {
    "execution": {
     "iopub.execute_input": "2023-04-05T03:50:27.385539Z",
     "iopub.status.busy": "2023-04-05T03:50:27.384760Z",
     "iopub.status.idle": "2023-04-05T03:50:33.580156Z",
     "shell.execute_reply": "2023-04-05T03:50:33.578574Z"
    },
    "papermill": {
     "duration": 6.209281,
     "end_time": "2023-04-05T03:50:33.583375",
     "exception": false,
     "start_time": "2023-04-05T03:50:27.374094",
     "status": "completed"
    },
    "tags": []
   },
   "outputs": [],
   "source": [
    "sample_sub = pd.read_csv(\"/kaggle/input/digit-recognizer/sample_submission.csv\")\n",
    "train_data = pd.read_csv(\"/kaggle/input/digit-recognizer/train.csv\")\n",
    "test_data = pd.read_csv(\"/kaggle/input/digit-recognizer/test.csv\")"
   ]
  },
  {
   "cell_type": "code",
   "execution_count": 3,
   "id": "1f34c2bd",
   "metadata": {
    "execution": {
     "iopub.execute_input": "2023-04-05T03:50:33.605530Z",
     "iopub.status.busy": "2023-04-05T03:50:33.604393Z",
     "iopub.status.idle": "2023-04-05T03:50:33.651497Z",
     "shell.execute_reply": "2023-04-05T03:50:33.650087Z"
    },
    "papermill": {
     "duration": 0.061159,
     "end_time": "2023-04-05T03:50:33.654311",
     "exception": false,
     "start_time": "2023-04-05T03:50:33.593152",
     "status": "completed"
    },
    "tags": []
   },
   "outputs": [
    {
     "data": {
      "text/html": [
       "<div>\n",
       "<style scoped>\n",
       "    .dataframe tbody tr th:only-of-type {\n",
       "        vertical-align: middle;\n",
       "    }\n",
       "\n",
       "    .dataframe tbody tr th {\n",
       "        vertical-align: top;\n",
       "    }\n",
       "\n",
       "    .dataframe thead th {\n",
       "        text-align: right;\n",
       "    }\n",
       "</style>\n",
       "<table border=\"1\" class=\"dataframe\">\n",
       "  <thead>\n",
       "    <tr style=\"text-align: right;\">\n",
       "      <th></th>\n",
       "      <th>label</th>\n",
       "      <th>pixel0</th>\n",
       "      <th>pixel1</th>\n",
       "      <th>pixel2</th>\n",
       "      <th>pixel3</th>\n",
       "      <th>pixel4</th>\n",
       "      <th>pixel5</th>\n",
       "      <th>pixel6</th>\n",
       "      <th>pixel7</th>\n",
       "      <th>pixel8</th>\n",
       "      <th>...</th>\n",
       "      <th>pixel774</th>\n",
       "      <th>pixel775</th>\n",
       "      <th>pixel776</th>\n",
       "      <th>pixel777</th>\n",
       "      <th>pixel778</th>\n",
       "      <th>pixel779</th>\n",
       "      <th>pixel780</th>\n",
       "      <th>pixel781</th>\n",
       "      <th>pixel782</th>\n",
       "      <th>pixel783</th>\n",
       "    </tr>\n",
       "  </thead>\n",
       "  <tbody>\n",
       "    <tr>\n",
       "      <th>0</th>\n",
       "      <td>1</td>\n",
       "      <td>0</td>\n",
       "      <td>0</td>\n",
       "      <td>0</td>\n",
       "      <td>0</td>\n",
       "      <td>0</td>\n",
       "      <td>0</td>\n",
       "      <td>0</td>\n",
       "      <td>0</td>\n",
       "      <td>0</td>\n",
       "      <td>...</td>\n",
       "      <td>0</td>\n",
       "      <td>0</td>\n",
       "      <td>0</td>\n",
       "      <td>0</td>\n",
       "      <td>0</td>\n",
       "      <td>0</td>\n",
       "      <td>0</td>\n",
       "      <td>0</td>\n",
       "      <td>0</td>\n",
       "      <td>0</td>\n",
       "    </tr>\n",
       "    <tr>\n",
       "      <th>1</th>\n",
       "      <td>0</td>\n",
       "      <td>0</td>\n",
       "      <td>0</td>\n",
       "      <td>0</td>\n",
       "      <td>0</td>\n",
       "      <td>0</td>\n",
       "      <td>0</td>\n",
       "      <td>0</td>\n",
       "      <td>0</td>\n",
       "      <td>0</td>\n",
       "      <td>...</td>\n",
       "      <td>0</td>\n",
       "      <td>0</td>\n",
       "      <td>0</td>\n",
       "      <td>0</td>\n",
       "      <td>0</td>\n",
       "      <td>0</td>\n",
       "      <td>0</td>\n",
       "      <td>0</td>\n",
       "      <td>0</td>\n",
       "      <td>0</td>\n",
       "    </tr>\n",
       "    <tr>\n",
       "      <th>2</th>\n",
       "      <td>1</td>\n",
       "      <td>0</td>\n",
       "      <td>0</td>\n",
       "      <td>0</td>\n",
       "      <td>0</td>\n",
       "      <td>0</td>\n",
       "      <td>0</td>\n",
       "      <td>0</td>\n",
       "      <td>0</td>\n",
       "      <td>0</td>\n",
       "      <td>...</td>\n",
       "      <td>0</td>\n",
       "      <td>0</td>\n",
       "      <td>0</td>\n",
       "      <td>0</td>\n",
       "      <td>0</td>\n",
       "      <td>0</td>\n",
       "      <td>0</td>\n",
       "      <td>0</td>\n",
       "      <td>0</td>\n",
       "      <td>0</td>\n",
       "    </tr>\n",
       "    <tr>\n",
       "      <th>3</th>\n",
       "      <td>4</td>\n",
       "      <td>0</td>\n",
       "      <td>0</td>\n",
       "      <td>0</td>\n",
       "      <td>0</td>\n",
       "      <td>0</td>\n",
       "      <td>0</td>\n",
       "      <td>0</td>\n",
       "      <td>0</td>\n",
       "      <td>0</td>\n",
       "      <td>...</td>\n",
       "      <td>0</td>\n",
       "      <td>0</td>\n",
       "      <td>0</td>\n",
       "      <td>0</td>\n",
       "      <td>0</td>\n",
       "      <td>0</td>\n",
       "      <td>0</td>\n",
       "      <td>0</td>\n",
       "      <td>0</td>\n",
       "      <td>0</td>\n",
       "    </tr>\n",
       "    <tr>\n",
       "      <th>4</th>\n",
       "      <td>0</td>\n",
       "      <td>0</td>\n",
       "      <td>0</td>\n",
       "      <td>0</td>\n",
       "      <td>0</td>\n",
       "      <td>0</td>\n",
       "      <td>0</td>\n",
       "      <td>0</td>\n",
       "      <td>0</td>\n",
       "      <td>0</td>\n",
       "      <td>...</td>\n",
       "      <td>0</td>\n",
       "      <td>0</td>\n",
       "      <td>0</td>\n",
       "      <td>0</td>\n",
       "      <td>0</td>\n",
       "      <td>0</td>\n",
       "      <td>0</td>\n",
       "      <td>0</td>\n",
       "      <td>0</td>\n",
       "      <td>0</td>\n",
       "    </tr>\n",
       "    <tr>\n",
       "      <th>...</th>\n",
       "      <td>...</td>\n",
       "      <td>...</td>\n",
       "      <td>...</td>\n",
       "      <td>...</td>\n",
       "      <td>...</td>\n",
       "      <td>...</td>\n",
       "      <td>...</td>\n",
       "      <td>...</td>\n",
       "      <td>...</td>\n",
       "      <td>...</td>\n",
       "      <td>...</td>\n",
       "      <td>...</td>\n",
       "      <td>...</td>\n",
       "      <td>...</td>\n",
       "      <td>...</td>\n",
       "      <td>...</td>\n",
       "      <td>...</td>\n",
       "      <td>...</td>\n",
       "      <td>...</td>\n",
       "      <td>...</td>\n",
       "      <td>...</td>\n",
       "    </tr>\n",
       "    <tr>\n",
       "      <th>41995</th>\n",
       "      <td>0</td>\n",
       "      <td>0</td>\n",
       "      <td>0</td>\n",
       "      <td>0</td>\n",
       "      <td>0</td>\n",
       "      <td>0</td>\n",
       "      <td>0</td>\n",
       "      <td>0</td>\n",
       "      <td>0</td>\n",
       "      <td>0</td>\n",
       "      <td>...</td>\n",
       "      <td>0</td>\n",
       "      <td>0</td>\n",
       "      <td>0</td>\n",
       "      <td>0</td>\n",
       "      <td>0</td>\n",
       "      <td>0</td>\n",
       "      <td>0</td>\n",
       "      <td>0</td>\n",
       "      <td>0</td>\n",
       "      <td>0</td>\n",
       "    </tr>\n",
       "    <tr>\n",
       "      <th>41996</th>\n",
       "      <td>1</td>\n",
       "      <td>0</td>\n",
       "      <td>0</td>\n",
       "      <td>0</td>\n",
       "      <td>0</td>\n",
       "      <td>0</td>\n",
       "      <td>0</td>\n",
       "      <td>0</td>\n",
       "      <td>0</td>\n",
       "      <td>0</td>\n",
       "      <td>...</td>\n",
       "      <td>0</td>\n",
       "      <td>0</td>\n",
       "      <td>0</td>\n",
       "      <td>0</td>\n",
       "      <td>0</td>\n",
       "      <td>0</td>\n",
       "      <td>0</td>\n",
       "      <td>0</td>\n",
       "      <td>0</td>\n",
       "      <td>0</td>\n",
       "    </tr>\n",
       "    <tr>\n",
       "      <th>41997</th>\n",
       "      <td>7</td>\n",
       "      <td>0</td>\n",
       "      <td>0</td>\n",
       "      <td>0</td>\n",
       "      <td>0</td>\n",
       "      <td>0</td>\n",
       "      <td>0</td>\n",
       "      <td>0</td>\n",
       "      <td>0</td>\n",
       "      <td>0</td>\n",
       "      <td>...</td>\n",
       "      <td>0</td>\n",
       "      <td>0</td>\n",
       "      <td>0</td>\n",
       "      <td>0</td>\n",
       "      <td>0</td>\n",
       "      <td>0</td>\n",
       "      <td>0</td>\n",
       "      <td>0</td>\n",
       "      <td>0</td>\n",
       "      <td>0</td>\n",
       "    </tr>\n",
       "    <tr>\n",
       "      <th>41998</th>\n",
       "      <td>6</td>\n",
       "      <td>0</td>\n",
       "      <td>0</td>\n",
       "      <td>0</td>\n",
       "      <td>0</td>\n",
       "      <td>0</td>\n",
       "      <td>0</td>\n",
       "      <td>0</td>\n",
       "      <td>0</td>\n",
       "      <td>0</td>\n",
       "      <td>...</td>\n",
       "      <td>0</td>\n",
       "      <td>0</td>\n",
       "      <td>0</td>\n",
       "      <td>0</td>\n",
       "      <td>0</td>\n",
       "      <td>0</td>\n",
       "      <td>0</td>\n",
       "      <td>0</td>\n",
       "      <td>0</td>\n",
       "      <td>0</td>\n",
       "    </tr>\n",
       "    <tr>\n",
       "      <th>41999</th>\n",
       "      <td>9</td>\n",
       "      <td>0</td>\n",
       "      <td>0</td>\n",
       "      <td>0</td>\n",
       "      <td>0</td>\n",
       "      <td>0</td>\n",
       "      <td>0</td>\n",
       "      <td>0</td>\n",
       "      <td>0</td>\n",
       "      <td>0</td>\n",
       "      <td>...</td>\n",
       "      <td>0</td>\n",
       "      <td>0</td>\n",
       "      <td>0</td>\n",
       "      <td>0</td>\n",
       "      <td>0</td>\n",
       "      <td>0</td>\n",
       "      <td>0</td>\n",
       "      <td>0</td>\n",
       "      <td>0</td>\n",
       "      <td>0</td>\n",
       "    </tr>\n",
       "  </tbody>\n",
       "</table>\n",
       "<p>42000 rows × 785 columns</p>\n",
       "</div>"
      ],
      "text/plain": [
       "       label  pixel0  pixel1  pixel2  pixel3  pixel4  pixel5  pixel6  pixel7  \\\n",
       "0          1       0       0       0       0       0       0       0       0   \n",
       "1          0       0       0       0       0       0       0       0       0   \n",
       "2          1       0       0       0       0       0       0       0       0   \n",
       "3          4       0       0       0       0       0       0       0       0   \n",
       "4          0       0       0       0       0       0       0       0       0   \n",
       "...      ...     ...     ...     ...     ...     ...     ...     ...     ...   \n",
       "41995      0       0       0       0       0       0       0       0       0   \n",
       "41996      1       0       0       0       0       0       0       0       0   \n",
       "41997      7       0       0       0       0       0       0       0       0   \n",
       "41998      6       0       0       0       0       0       0       0       0   \n",
       "41999      9       0       0       0       0       0       0       0       0   \n",
       "\n",
       "       pixel8  ...  pixel774  pixel775  pixel776  pixel777  pixel778  \\\n",
       "0           0  ...         0         0         0         0         0   \n",
       "1           0  ...         0         0         0         0         0   \n",
       "2           0  ...         0         0         0         0         0   \n",
       "3           0  ...         0         0         0         0         0   \n",
       "4           0  ...         0         0         0         0         0   \n",
       "...       ...  ...       ...       ...       ...       ...       ...   \n",
       "41995       0  ...         0         0         0         0         0   \n",
       "41996       0  ...         0         0         0         0         0   \n",
       "41997       0  ...         0         0         0         0         0   \n",
       "41998       0  ...         0         0         0         0         0   \n",
       "41999       0  ...         0         0         0         0         0   \n",
       "\n",
       "       pixel779  pixel780  pixel781  pixel782  pixel783  \n",
       "0             0         0         0         0         0  \n",
       "1             0         0         0         0         0  \n",
       "2             0         0         0         0         0  \n",
       "3             0         0         0         0         0  \n",
       "4             0         0         0         0         0  \n",
       "...         ...       ...       ...       ...       ...  \n",
       "41995         0         0         0         0         0  \n",
       "41996         0         0         0         0         0  \n",
       "41997         0         0         0         0         0  \n",
       "41998         0         0         0         0         0  \n",
       "41999         0         0         0         0         0  \n",
       "\n",
       "[42000 rows x 785 columns]"
      ]
     },
     "execution_count": 3,
     "metadata": {},
     "output_type": "execute_result"
    }
   ],
   "source": [
    "train_data"
   ]
  },
  {
   "cell_type": "code",
   "execution_count": 4,
   "id": "9ff49180",
   "metadata": {
    "execution": {
     "iopub.execute_input": "2023-04-05T03:50:33.675503Z",
     "iopub.status.busy": "2023-04-05T03:50:33.674930Z",
     "iopub.status.idle": "2023-04-05T03:50:33.700636Z",
     "shell.execute_reply": "2023-04-05T03:50:33.699321Z"
    },
    "papermill": {
     "duration": 0.039687,
     "end_time": "2023-04-05T03:50:33.703516",
     "exception": false,
     "start_time": "2023-04-05T03:50:33.663829",
     "status": "completed"
    },
    "tags": []
   },
   "outputs": [
    {
     "data": {
      "text/html": [
       "<div>\n",
       "<style scoped>\n",
       "    .dataframe tbody tr th:only-of-type {\n",
       "        vertical-align: middle;\n",
       "    }\n",
       "\n",
       "    .dataframe tbody tr th {\n",
       "        vertical-align: top;\n",
       "    }\n",
       "\n",
       "    .dataframe thead th {\n",
       "        text-align: right;\n",
       "    }\n",
       "</style>\n",
       "<table border=\"1\" class=\"dataframe\">\n",
       "  <thead>\n",
       "    <tr style=\"text-align: right;\">\n",
       "      <th></th>\n",
       "      <th>pixel0</th>\n",
       "      <th>pixel1</th>\n",
       "      <th>pixel2</th>\n",
       "      <th>pixel3</th>\n",
       "      <th>pixel4</th>\n",
       "      <th>pixel5</th>\n",
       "      <th>pixel6</th>\n",
       "      <th>pixel7</th>\n",
       "      <th>pixel8</th>\n",
       "      <th>pixel9</th>\n",
       "      <th>...</th>\n",
       "      <th>pixel774</th>\n",
       "      <th>pixel775</th>\n",
       "      <th>pixel776</th>\n",
       "      <th>pixel777</th>\n",
       "      <th>pixel778</th>\n",
       "      <th>pixel779</th>\n",
       "      <th>pixel780</th>\n",
       "      <th>pixel781</th>\n",
       "      <th>pixel782</th>\n",
       "      <th>pixel783</th>\n",
       "    </tr>\n",
       "  </thead>\n",
       "  <tbody>\n",
       "    <tr>\n",
       "      <th>0</th>\n",
       "      <td>0</td>\n",
       "      <td>0</td>\n",
       "      <td>0</td>\n",
       "      <td>0</td>\n",
       "      <td>0</td>\n",
       "      <td>0</td>\n",
       "      <td>0</td>\n",
       "      <td>0</td>\n",
       "      <td>0</td>\n",
       "      <td>0</td>\n",
       "      <td>...</td>\n",
       "      <td>0</td>\n",
       "      <td>0</td>\n",
       "      <td>0</td>\n",
       "      <td>0</td>\n",
       "      <td>0</td>\n",
       "      <td>0</td>\n",
       "      <td>0</td>\n",
       "      <td>0</td>\n",
       "      <td>0</td>\n",
       "      <td>0</td>\n",
       "    </tr>\n",
       "    <tr>\n",
       "      <th>1</th>\n",
       "      <td>0</td>\n",
       "      <td>0</td>\n",
       "      <td>0</td>\n",
       "      <td>0</td>\n",
       "      <td>0</td>\n",
       "      <td>0</td>\n",
       "      <td>0</td>\n",
       "      <td>0</td>\n",
       "      <td>0</td>\n",
       "      <td>0</td>\n",
       "      <td>...</td>\n",
       "      <td>0</td>\n",
       "      <td>0</td>\n",
       "      <td>0</td>\n",
       "      <td>0</td>\n",
       "      <td>0</td>\n",
       "      <td>0</td>\n",
       "      <td>0</td>\n",
       "      <td>0</td>\n",
       "      <td>0</td>\n",
       "      <td>0</td>\n",
       "    </tr>\n",
       "    <tr>\n",
       "      <th>2</th>\n",
       "      <td>0</td>\n",
       "      <td>0</td>\n",
       "      <td>0</td>\n",
       "      <td>0</td>\n",
       "      <td>0</td>\n",
       "      <td>0</td>\n",
       "      <td>0</td>\n",
       "      <td>0</td>\n",
       "      <td>0</td>\n",
       "      <td>0</td>\n",
       "      <td>...</td>\n",
       "      <td>0</td>\n",
       "      <td>0</td>\n",
       "      <td>0</td>\n",
       "      <td>0</td>\n",
       "      <td>0</td>\n",
       "      <td>0</td>\n",
       "      <td>0</td>\n",
       "      <td>0</td>\n",
       "      <td>0</td>\n",
       "      <td>0</td>\n",
       "    </tr>\n",
       "    <tr>\n",
       "      <th>3</th>\n",
       "      <td>0</td>\n",
       "      <td>0</td>\n",
       "      <td>0</td>\n",
       "      <td>0</td>\n",
       "      <td>0</td>\n",
       "      <td>0</td>\n",
       "      <td>0</td>\n",
       "      <td>0</td>\n",
       "      <td>0</td>\n",
       "      <td>0</td>\n",
       "      <td>...</td>\n",
       "      <td>0</td>\n",
       "      <td>0</td>\n",
       "      <td>0</td>\n",
       "      <td>0</td>\n",
       "      <td>0</td>\n",
       "      <td>0</td>\n",
       "      <td>0</td>\n",
       "      <td>0</td>\n",
       "      <td>0</td>\n",
       "      <td>0</td>\n",
       "    </tr>\n",
       "    <tr>\n",
       "      <th>4</th>\n",
       "      <td>0</td>\n",
       "      <td>0</td>\n",
       "      <td>0</td>\n",
       "      <td>0</td>\n",
       "      <td>0</td>\n",
       "      <td>0</td>\n",
       "      <td>0</td>\n",
       "      <td>0</td>\n",
       "      <td>0</td>\n",
       "      <td>0</td>\n",
       "      <td>...</td>\n",
       "      <td>0</td>\n",
       "      <td>0</td>\n",
       "      <td>0</td>\n",
       "      <td>0</td>\n",
       "      <td>0</td>\n",
       "      <td>0</td>\n",
       "      <td>0</td>\n",
       "      <td>0</td>\n",
       "      <td>0</td>\n",
       "      <td>0</td>\n",
       "    </tr>\n",
       "    <tr>\n",
       "      <th>...</th>\n",
       "      <td>...</td>\n",
       "      <td>...</td>\n",
       "      <td>...</td>\n",
       "      <td>...</td>\n",
       "      <td>...</td>\n",
       "      <td>...</td>\n",
       "      <td>...</td>\n",
       "      <td>...</td>\n",
       "      <td>...</td>\n",
       "      <td>...</td>\n",
       "      <td>...</td>\n",
       "      <td>...</td>\n",
       "      <td>...</td>\n",
       "      <td>...</td>\n",
       "      <td>...</td>\n",
       "      <td>...</td>\n",
       "      <td>...</td>\n",
       "      <td>...</td>\n",
       "      <td>...</td>\n",
       "      <td>...</td>\n",
       "      <td>...</td>\n",
       "    </tr>\n",
       "    <tr>\n",
       "      <th>27995</th>\n",
       "      <td>0</td>\n",
       "      <td>0</td>\n",
       "      <td>0</td>\n",
       "      <td>0</td>\n",
       "      <td>0</td>\n",
       "      <td>0</td>\n",
       "      <td>0</td>\n",
       "      <td>0</td>\n",
       "      <td>0</td>\n",
       "      <td>0</td>\n",
       "      <td>...</td>\n",
       "      <td>0</td>\n",
       "      <td>0</td>\n",
       "      <td>0</td>\n",
       "      <td>0</td>\n",
       "      <td>0</td>\n",
       "      <td>0</td>\n",
       "      <td>0</td>\n",
       "      <td>0</td>\n",
       "      <td>0</td>\n",
       "      <td>0</td>\n",
       "    </tr>\n",
       "    <tr>\n",
       "      <th>27996</th>\n",
       "      <td>0</td>\n",
       "      <td>0</td>\n",
       "      <td>0</td>\n",
       "      <td>0</td>\n",
       "      <td>0</td>\n",
       "      <td>0</td>\n",
       "      <td>0</td>\n",
       "      <td>0</td>\n",
       "      <td>0</td>\n",
       "      <td>0</td>\n",
       "      <td>...</td>\n",
       "      <td>0</td>\n",
       "      <td>0</td>\n",
       "      <td>0</td>\n",
       "      <td>0</td>\n",
       "      <td>0</td>\n",
       "      <td>0</td>\n",
       "      <td>0</td>\n",
       "      <td>0</td>\n",
       "      <td>0</td>\n",
       "      <td>0</td>\n",
       "    </tr>\n",
       "    <tr>\n",
       "      <th>27997</th>\n",
       "      <td>0</td>\n",
       "      <td>0</td>\n",
       "      <td>0</td>\n",
       "      <td>0</td>\n",
       "      <td>0</td>\n",
       "      <td>0</td>\n",
       "      <td>0</td>\n",
       "      <td>0</td>\n",
       "      <td>0</td>\n",
       "      <td>0</td>\n",
       "      <td>...</td>\n",
       "      <td>0</td>\n",
       "      <td>0</td>\n",
       "      <td>0</td>\n",
       "      <td>0</td>\n",
       "      <td>0</td>\n",
       "      <td>0</td>\n",
       "      <td>0</td>\n",
       "      <td>0</td>\n",
       "      <td>0</td>\n",
       "      <td>0</td>\n",
       "    </tr>\n",
       "    <tr>\n",
       "      <th>27998</th>\n",
       "      <td>0</td>\n",
       "      <td>0</td>\n",
       "      <td>0</td>\n",
       "      <td>0</td>\n",
       "      <td>0</td>\n",
       "      <td>0</td>\n",
       "      <td>0</td>\n",
       "      <td>0</td>\n",
       "      <td>0</td>\n",
       "      <td>0</td>\n",
       "      <td>...</td>\n",
       "      <td>0</td>\n",
       "      <td>0</td>\n",
       "      <td>0</td>\n",
       "      <td>0</td>\n",
       "      <td>0</td>\n",
       "      <td>0</td>\n",
       "      <td>0</td>\n",
       "      <td>0</td>\n",
       "      <td>0</td>\n",
       "      <td>0</td>\n",
       "    </tr>\n",
       "    <tr>\n",
       "      <th>27999</th>\n",
       "      <td>0</td>\n",
       "      <td>0</td>\n",
       "      <td>0</td>\n",
       "      <td>0</td>\n",
       "      <td>0</td>\n",
       "      <td>0</td>\n",
       "      <td>0</td>\n",
       "      <td>0</td>\n",
       "      <td>0</td>\n",
       "      <td>0</td>\n",
       "      <td>...</td>\n",
       "      <td>0</td>\n",
       "      <td>0</td>\n",
       "      <td>0</td>\n",
       "      <td>0</td>\n",
       "      <td>0</td>\n",
       "      <td>0</td>\n",
       "      <td>0</td>\n",
       "      <td>0</td>\n",
       "      <td>0</td>\n",
       "      <td>0</td>\n",
       "    </tr>\n",
       "  </tbody>\n",
       "</table>\n",
       "<p>28000 rows × 784 columns</p>\n",
       "</div>"
      ],
      "text/plain": [
       "       pixel0  pixel1  pixel2  pixel3  pixel4  pixel5  pixel6  pixel7  pixel8  \\\n",
       "0           0       0       0       0       0       0       0       0       0   \n",
       "1           0       0       0       0       0       0       0       0       0   \n",
       "2           0       0       0       0       0       0       0       0       0   \n",
       "3           0       0       0       0       0       0       0       0       0   \n",
       "4           0       0       0       0       0       0       0       0       0   \n",
       "...       ...     ...     ...     ...     ...     ...     ...     ...     ...   \n",
       "27995       0       0       0       0       0       0       0       0       0   \n",
       "27996       0       0       0       0       0       0       0       0       0   \n",
       "27997       0       0       0       0       0       0       0       0       0   \n",
       "27998       0       0       0       0       0       0       0       0       0   \n",
       "27999       0       0       0       0       0       0       0       0       0   \n",
       "\n",
       "       pixel9  ...  pixel774  pixel775  pixel776  pixel777  pixel778  \\\n",
       "0           0  ...         0         0         0         0         0   \n",
       "1           0  ...         0         0         0         0         0   \n",
       "2           0  ...         0         0         0         0         0   \n",
       "3           0  ...         0         0         0         0         0   \n",
       "4           0  ...         0         0         0         0         0   \n",
       "...       ...  ...       ...       ...       ...       ...       ...   \n",
       "27995       0  ...         0         0         0         0         0   \n",
       "27996       0  ...         0         0         0         0         0   \n",
       "27997       0  ...         0         0         0         0         0   \n",
       "27998       0  ...         0         0         0         0         0   \n",
       "27999       0  ...         0         0         0         0         0   \n",
       "\n",
       "       pixel779  pixel780  pixel781  pixel782  pixel783  \n",
       "0             0         0         0         0         0  \n",
       "1             0         0         0         0         0  \n",
       "2             0         0         0         0         0  \n",
       "3             0         0         0         0         0  \n",
       "4             0         0         0         0         0  \n",
       "...         ...       ...       ...       ...       ...  \n",
       "27995         0         0         0         0         0  \n",
       "27996         0         0         0         0         0  \n",
       "27997         0         0         0         0         0  \n",
       "27998         0         0         0         0         0  \n",
       "27999         0         0         0         0         0  \n",
       "\n",
       "[28000 rows x 784 columns]"
      ]
     },
     "execution_count": 4,
     "metadata": {},
     "output_type": "execute_result"
    }
   ],
   "source": [
    "test_data"
   ]
  },
  {
   "cell_type": "code",
   "execution_count": 5,
   "id": "d5618f3c",
   "metadata": {
    "execution": {
     "iopub.execute_input": "2023-04-05T03:50:33.725764Z",
     "iopub.status.busy": "2023-04-05T03:50:33.725360Z",
     "iopub.status.idle": "2023-04-05T03:50:33.738102Z",
     "shell.execute_reply": "2023-04-05T03:50:33.736638Z"
    },
    "papermill": {
     "duration": 0.027103,
     "end_time": "2023-04-05T03:50:33.740734",
     "exception": false,
     "start_time": "2023-04-05T03:50:33.713631",
     "status": "completed"
    },
    "tags": []
   },
   "outputs": [
    {
     "data": {
      "text/html": [
       "<div>\n",
       "<style scoped>\n",
       "    .dataframe tbody tr th:only-of-type {\n",
       "        vertical-align: middle;\n",
       "    }\n",
       "\n",
       "    .dataframe tbody tr th {\n",
       "        vertical-align: top;\n",
       "    }\n",
       "\n",
       "    .dataframe thead th {\n",
       "        text-align: right;\n",
       "    }\n",
       "</style>\n",
       "<table border=\"1\" class=\"dataframe\">\n",
       "  <thead>\n",
       "    <tr style=\"text-align: right;\">\n",
       "      <th></th>\n",
       "      <th>ImageId</th>\n",
       "      <th>Label</th>\n",
       "    </tr>\n",
       "  </thead>\n",
       "  <tbody>\n",
       "    <tr>\n",
       "      <th>0</th>\n",
       "      <td>1</td>\n",
       "      <td>0</td>\n",
       "    </tr>\n",
       "    <tr>\n",
       "      <th>1</th>\n",
       "      <td>2</td>\n",
       "      <td>0</td>\n",
       "    </tr>\n",
       "    <tr>\n",
       "      <th>2</th>\n",
       "      <td>3</td>\n",
       "      <td>0</td>\n",
       "    </tr>\n",
       "    <tr>\n",
       "      <th>3</th>\n",
       "      <td>4</td>\n",
       "      <td>0</td>\n",
       "    </tr>\n",
       "    <tr>\n",
       "      <th>4</th>\n",
       "      <td>5</td>\n",
       "      <td>0</td>\n",
       "    </tr>\n",
       "    <tr>\n",
       "      <th>...</th>\n",
       "      <td>...</td>\n",
       "      <td>...</td>\n",
       "    </tr>\n",
       "    <tr>\n",
       "      <th>27995</th>\n",
       "      <td>27996</td>\n",
       "      <td>0</td>\n",
       "    </tr>\n",
       "    <tr>\n",
       "      <th>27996</th>\n",
       "      <td>27997</td>\n",
       "      <td>0</td>\n",
       "    </tr>\n",
       "    <tr>\n",
       "      <th>27997</th>\n",
       "      <td>27998</td>\n",
       "      <td>0</td>\n",
       "    </tr>\n",
       "    <tr>\n",
       "      <th>27998</th>\n",
       "      <td>27999</td>\n",
       "      <td>0</td>\n",
       "    </tr>\n",
       "    <tr>\n",
       "      <th>27999</th>\n",
       "      <td>28000</td>\n",
       "      <td>0</td>\n",
       "    </tr>\n",
       "  </tbody>\n",
       "</table>\n",
       "<p>28000 rows × 2 columns</p>\n",
       "</div>"
      ],
      "text/plain": [
       "       ImageId  Label\n",
       "0            1      0\n",
       "1            2      0\n",
       "2            3      0\n",
       "3            4      0\n",
       "4            5      0\n",
       "...        ...    ...\n",
       "27995    27996      0\n",
       "27996    27997      0\n",
       "27997    27998      0\n",
       "27998    27999      0\n",
       "27999    28000      0\n",
       "\n",
       "[28000 rows x 2 columns]"
      ]
     },
     "execution_count": 5,
     "metadata": {},
     "output_type": "execute_result"
    }
   ],
   "source": [
    "sample_sub"
   ]
  },
  {
   "cell_type": "code",
   "execution_count": 6,
   "id": "0a8b0ba5",
   "metadata": {
    "execution": {
     "iopub.execute_input": "2023-04-05T03:50:33.763067Z",
     "iopub.status.busy": "2023-04-05T03:50:33.762611Z",
     "iopub.status.idle": "2023-04-05T03:50:34.091669Z",
     "shell.execute_reply": "2023-04-05T03:50:34.090381Z"
    },
    "papermill": {
     "duration": 0.344044,
     "end_time": "2023-04-05T03:50:34.094909",
     "exception": false,
     "start_time": "2023-04-05T03:50:33.750865",
     "status": "completed"
    },
    "tags": []
   },
   "outputs": [
    {
     "data": {
      "text/plain": [
       "<AxesSubplot:xlabel='label', ylabel='count'>"
      ]
     },
     "execution_count": 6,
     "metadata": {},
     "output_type": "execute_result"
    },
    {
     "data": {
      "image/png": "[encoded data removed]",
      "text/plain": [
       "<Figure size 640x480 with 1 Axes>"
      ]
     },
     "metadata": {},
     "output_type": "display_data"
    }
   ],
   "source": [
    "sns.countplot(data = train_data, x = \"label\")"
   ]
  },
  {
   "cell_type": "code",
   "execution_count": 7,
   "id": "6ea84306",
   "metadata": {
    "execution": {
     "iopub.execute_input": "2023-04-05T03:50:34.118842Z",
     "iopub.status.busy": "2023-04-05T03:50:34.118416Z",
     "iopub.status.idle": "2023-04-05T03:50:34.171783Z",
     "shell.execute_reply": "2023-04-05T03:50:34.170090Z"
    },
    "papermill": {
     "duration": 0.06861,
     "end_time": "2023-04-05T03:50:34.174802",
     "exception": false,
     "start_time": "2023-04-05T03:50:34.106192",
     "status": "completed"
    },
    "tags": []
   },
   "outputs": [
    {
     "name": "stdout",
     "output_type": "stream",
     "text": [
      "<class 'pandas.core.frame.DataFrame'>\n",
      "RangeIndex: 42000 entries, 0 to 41999\n",
      "Columns: 785 entries, label to pixel783\n",
      "dtypes: int64(785)\n",
      "memory usage: 251.5 MB\n"
     ]
    }
   ],
   "source": [
    "train_data.info()"
   ]
  },
  {
   "cell_type": "code",
   "execution_count": 8,
   "id": "7bcaf231",
   "metadata": {
    "execution": {
     "iopub.execute_input": "2023-04-05T03:50:34.199489Z",
     "iopub.status.busy": "2023-04-05T03:50:34.198662Z",
     "iopub.status.idle": "2023-04-05T03:50:34.205034Z",
     "shell.execute_reply": "2023-04-05T03:50:34.203685Z"
    },
    "papermill": {
     "duration": 0.021301,
     "end_time": "2023-04-05T03:50:34.207728",
     "exception": false,
     "start_time": "2023-04-05T03:50:34.186427",
     "status": "completed"
    },
    "tags": []
   },
   "outputs": [],
   "source": [
    "test_id = sample_sub.ImageId.copy()"
   ]
  },
  {
   "cell_type": "code",
   "execution_count": 9,
   "id": "51fb1e2e",
   "metadata": {
    "execution": {
     "iopub.execute_input": "2023-04-05T03:50:34.230767Z",
     "iopub.status.busy": "2023-04-05T03:50:34.230241Z",
     "iopub.status.idle": "2023-04-05T03:50:34.239877Z",
     "shell.execute_reply": "2023-04-05T03:50:34.238943Z"
    },
    "papermill": {
     "duration": 0.024178,
     "end_time": "2023-04-05T03:50:34.242112",
     "exception": false,
     "start_time": "2023-04-05T03:50:34.217934",
     "status": "completed"
    },
    "tags": []
   },
   "outputs": [
    {
     "data": {
      "text/plain": [
       "label       int64\n",
       "pixel0      int64\n",
       "pixel1      int64\n",
       "pixel2      int64\n",
       "pixel3      int64\n",
       "            ...  \n",
       "pixel779    int64\n",
       "pixel780    int64\n",
       "pixel781    int64\n",
       "pixel782    int64\n",
       "pixel783    int64\n",
       "Length: 785, dtype: object"
      ]
     },
     "execution_count": 9,
     "metadata": {},
     "output_type": "execute_result"
    }
   ],
   "source": [
    "train_data.dtypes"
   ]
  },
  {
   "cell_type": "code",
   "execution_count": 10,
   "id": "a0b66674",
   "metadata": {
    "execution": {
     "iopub.execute_input": "2023-04-05T03:50:34.266182Z",
     "iopub.status.busy": "2023-04-05T03:50:34.264914Z",
     "iopub.status.idle": "2023-04-05T03:50:34.379488Z",
     "shell.execute_reply": "2023-04-05T03:50:34.378107Z"
    },
    "papermill": {
     "duration": 0.130062,
     "end_time": "2023-04-05T03:50:34.382704",
     "exception": false,
     "start_time": "2023-04-05T03:50:34.252642",
     "status": "completed"
    },
    "tags": []
   },
   "outputs": [],
   "source": [
    "x_train = train_data.drop([\"label\"], axis = 1)\n",
    "y_train = train_data[\"label\"]"
   ]
  },
  {
   "cell_type": "code",
   "execution_count": 11,
   "id": "d325bab8",
   "metadata": {
    "execution": {
     "iopub.execute_input": "2023-04-05T03:50:34.408022Z",
     "iopub.status.busy": "2023-04-05T03:50:34.407563Z",
     "iopub.status.idle": "2023-04-05T03:50:34.413252Z",
     "shell.execute_reply": "2023-04-05T03:50:34.411933Z"
    },
    "papermill": {
     "duration": 0.021111,
     "end_time": "2023-04-05T03:50:34.416089",
     "exception": false,
     "start_time": "2023-04-05T03:50:34.394978",
     "status": "completed"
    },
    "tags": []
   },
   "outputs": [],
   "source": [
    "x_test = test_data\n",
    "y_test = sample_sub"
   ]
  },
  {
   "cell_type": "code",
   "execution_count": 12,
   "id": "940d1c8d",
   "metadata": {
    "execution": {
     "iopub.execute_input": "2023-04-05T03:50:34.439368Z",
     "iopub.status.busy": "2023-04-05T03:50:34.438829Z",
     "iopub.status.idle": "2023-04-05T03:50:34.496572Z",
     "shell.execute_reply": "2023-04-05T03:50:34.494788Z"
    },
    "papermill": {
     "duration": 0.073277,
     "end_time": "2023-04-05T03:50:34.499856",
     "exception": false,
     "start_time": "2023-04-05T03:50:34.426579",
     "status": "completed"
    },
    "tags": []
   },
   "outputs": [
    {
     "name": "stdout",
     "output_type": "stream",
     "text": [
      "Series([], dtype: int64)\n"
     ]
    }
   ],
   "source": [
    "missing_vals = x_train.isnull().sum()\n",
    "print(missing_vals[missing_vals > 0])"
   ]
  },
  {
   "cell_type": "code",
   "execution_count": 13,
   "id": "8a57a904",
   "metadata": {
    "execution": {
     "iopub.execute_input": "2023-04-05T03:50:34.522974Z",
     "iopub.status.busy": "2023-04-05T03:50:34.522524Z",
     "iopub.status.idle": "2023-04-05T03:50:34.561464Z",
     "shell.execute_reply": "2023-04-05T03:50:34.559521Z"
    },
    "papermill": {
     "duration": 0.053738,
     "end_time": "2023-04-05T03:50:34.564126",
     "exception": false,
     "start_time": "2023-04-05T03:50:34.510388",
     "status": "completed"
    },
    "tags": []
   },
   "outputs": [
    {
     "name": "stdout",
     "output_type": "stream",
     "text": [
      "Series([], dtype: int64)\n"
     ]
    }
   ],
   "source": [
    "missing_vals = x_test.isnull().sum()\n",
    "print(missing_vals[missing_vals > 0])"
   ]
  },
  {
   "cell_type": "code",
   "execution_count": 14,
   "id": "8b041642",
   "metadata": {
    "execution": {
     "iopub.execute_input": "2023-04-05T03:50:34.587412Z",
     "iopub.status.busy": "2023-04-05T03:50:34.586987Z",
     "iopub.status.idle": "2023-04-05T03:50:34.595192Z",
     "shell.execute_reply": "2023-04-05T03:50:34.593895Z"
    },
    "papermill": {
     "duration": 0.022753,
     "end_time": "2023-04-05T03:50:34.597769",
     "exception": false,
     "start_time": "2023-04-05T03:50:34.575016",
     "status": "completed"
    },
    "tags": []
   },
   "outputs": [
    {
     "data": {
      "text/plain": [
       "(28000, 784)"
      ]
     },
     "execution_count": 14,
     "metadata": {},
     "output_type": "execute_result"
    }
   ],
   "source": [
    "x_test.shape"
   ]
  },
  {
   "cell_type": "code",
   "execution_count": 15,
   "id": "daae8adf",
   "metadata": {
    "execution": {
     "iopub.execute_input": "2023-04-05T03:50:34.621883Z",
     "iopub.status.busy": "2023-04-05T03:50:34.620588Z",
     "iopub.status.idle": "2023-04-05T03:50:34.630742Z",
     "shell.execute_reply": "2023-04-05T03:50:34.629575Z"
    },
    "papermill": {
     "duration": 0.025135,
     "end_time": "2023-04-05T03:50:34.633248",
     "exception": false,
     "start_time": "2023-04-05T03:50:34.608113",
     "status": "completed"
    },
    "tags": []
   },
   "outputs": [],
   "source": [
    "y_train = pd.get_dummies(y_train).values"
   ]
  },
  {
   "cell_type": "code",
   "execution_count": 16,
   "id": "040302f1",
   "metadata": {
    "execution": {
     "iopub.execute_input": "2023-04-05T03:50:34.657057Z",
     "iopub.status.busy": "2023-04-05T03:50:34.656547Z",
     "iopub.status.idle": "2023-04-05T03:50:35.128423Z",
     "shell.execute_reply": "2023-04-05T03:50:35.126924Z"
    },
    "papermill": {
     "duration": 0.48758,
     "end_time": "2023-04-05T03:50:35.131419",
     "exception": false,
     "start_time": "2023-04-05T03:50:34.643839",
     "status": "completed"
    },
    "tags": []
   },
   "outputs": [],
   "source": [
    "from sklearn.model_selection import train_test_split\n",
    "\n",
    "x, x_val, y, y_val = train_test_split(x_train, y_train, test_size = 0.1, random_state=42)"
   ]
  },
  {
   "cell_type": "code",
   "execution_count": 17,
   "id": "91a2d088",
   "metadata": {
    "execution": {
     "iopub.execute_input": "2023-04-05T03:50:35.154894Z",
     "iopub.status.busy": "2023-04-05T03:50:35.154455Z",
     "iopub.status.idle": "2023-04-05T03:50:35.162995Z",
     "shell.execute_reply": "2023-04-05T03:50:35.161609Z"
    },
    "papermill": {
     "duration": 0.023546,
     "end_time": "2023-04-05T03:50:35.165639",
     "exception": false,
     "start_time": "2023-04-05T03:50:35.142093",
     "status": "completed"
    },
    "tags": []
   },
   "outputs": [
    {
     "data": {
      "text/plain": [
       "(37800, 784)"
      ]
     },
     "execution_count": 17,
     "metadata": {},
     "output_type": "execute_result"
    }
   ],
   "source": [
    "x.shape"
   ]
  },
  {
   "cell_type": "code",
   "execution_count": 18,
   "id": "23e1e7c3",
   "metadata": {
    "execution": {
     "iopub.execute_input": "2023-04-05T03:50:35.188859Z",
     "iopub.status.busy": "2023-04-05T03:50:35.188436Z",
     "iopub.status.idle": "2023-04-05T03:50:35.196473Z",
     "shell.execute_reply": "2023-04-05T03:50:35.195458Z"
    },
    "papermill": {
     "duration": 0.022709,
     "end_time": "2023-04-05T03:50:35.198927",
     "exception": false,
     "start_time": "2023-04-05T03:50:35.176218",
     "status": "completed"
    },
    "tags": []
   },
   "outputs": [
    {
     "data": {
      "text/plain": [
       "(4200, 10)"
      ]
     },
     "execution_count": 18,
     "metadata": {},
     "output_type": "execute_result"
    }
   ],
   "source": [
    "y_val.shape"
   ]
  },
  {
   "cell_type": "code",
   "execution_count": 19,
   "id": "43ca1bfb",
   "metadata": {
    "execution": {
     "iopub.execute_input": "2023-04-05T03:50:35.223766Z",
     "iopub.status.busy": "2023-04-05T03:50:35.223211Z",
     "iopub.status.idle": "2023-04-05T03:50:35.231536Z",
     "shell.execute_reply": "2023-04-05T03:50:35.229779Z"
    },
    "papermill": {
     "duration": 0.024033,
     "end_time": "2023-04-05T03:50:35.234399",
     "exception": false,
     "start_time": "2023-04-05T03:50:35.210366",
     "status": "completed"
    },
    "tags": []
   },
   "outputs": [
    {
     "data": {
      "text/plain": [
       "(37800, 10)"
      ]
     },
     "execution_count": 19,
     "metadata": {},
     "output_type": "execute_result"
    }
   ],
   "source": [
    "y.shape"
   ]
  },
  {
   "cell_type": "code",
   "execution_count": 20,
   "id": "0921293a",
   "metadata": {
    "execution": {
     "iopub.execute_input": "2023-04-05T03:50:35.259857Z",
     "iopub.status.busy": "2023-04-05T03:50:35.258627Z",
     "iopub.status.idle": "2023-04-05T03:50:45.083854Z",
     "shell.execute_reply": "2023-04-05T03:50:45.081780Z"
    },
    "papermill": {
     "duration": 9.844112,
     "end_time": "2023-04-05T03:50:45.089542",
     "exception": false,
     "start_time": "2023-04-05T03:50:35.245430",
     "status": "completed"
    },
    "tags": []
   },
   "outputs": [
    {
     "name": "stdout",
     "output_type": "stream",
     "text": [
      "Model: \"sequential\"\n",
      "_________________________________________________________________\n",
      " Layer (type)                Output Shape              Param #   \n",
      "=================================================================\n",
      " conv2d (Conv2D)             (None, 24, 24, 32)        832       \n",
      "                                                                 \n",
      " max_pooling2d (MaxPooling2D  (None, 12, 12, 32)       0         \n",
      " )                                                               \n",
      "                                                                 \n",
      " conv2d_1 (Conv2D)           (None, 8, 8, 64)          51264     \n",
      "                                                                 \n",
      " max_pooling2d_1 (MaxPooling  (None, 4, 4, 64)         0         \n",
      " 2D)                                                             \n",
      "                                                                 \n",
      " flatten (Flatten)           (None, 1024)              0         \n",
      "                                                                 \n",
      " dense (Dense)               (None, 10)                10250     \n",
      "                                                                 \n",
      "=================================================================\n",
      "Total params: 62,346\n",
      "Trainable params: 62,346\n",
      "Non-trainable params: 0\n",
      "_________________________________________________________________\n"
     ]
    }
   ],
   "source": [
    "from keras import layers\n",
    "from keras import models\n",
    "from keras.datasets import mnist\n",
    "from keras.utils import to_categorical\n",
    "\n",
    "# Define the CNN model\n",
    "model = models.Sequential()\n",
    "\n",
    "model.add(layers.Conv2D(32, (5,5), activation='relu', input_shape=(28, 28,1)))\n",
    "model.add(layers.MaxPooling2D((2, 2)))\n",
    "\n",
    "model.add(layers.Conv2D(64, (5, 5), activation='relu'))\n",
    "model.add(layers.MaxPooling2D((2, 2)))\n",
    "\n",
    "model.add(layers.Flatten())\n",
    "model.add(layers.Dense(10, activation='softmax'))\n",
    "\n",
    "model.summary()"
   ]
  },
  {
   "cell_type": "code",
   "execution_count": 21,
   "id": "65283236",
   "metadata": {
    "execution": {
     "iopub.execute_input": "2023-04-05T03:50:45.116995Z",
     "iopub.status.busy": "2023-04-05T03:50:45.116525Z",
     "iopub.status.idle": "2023-04-05T03:50:45.310594Z",
     "shell.execute_reply": "2023-04-05T03:50:45.309219Z"
    },
    "papermill": {
     "duration": 0.211882,
     "end_time": "2023-04-05T03:50:45.313772",
     "exception": false,
     "start_time": "2023-04-05T03:50:45.101890",
     "status": "completed"
    },
    "tags": []
   },
   "outputs": [],
   "source": [
    "x = np.array(x).reshape(x.shape[0], 28, 28, 1)\n"
   ]
  },
  {
   "cell_type": "code",
   "execution_count": 22,
   "id": "aae89d1a",
   "metadata": {
    "execution": {
     "iopub.execute_input": "2023-04-05T03:50:45.344339Z",
     "iopub.status.busy": "2023-04-05T03:50:45.343840Z",
     "iopub.status.idle": "2023-04-05T03:50:45.350806Z",
     "shell.execute_reply": "2023-04-05T03:50:45.349879Z"
    },
    "papermill": {
     "duration": 0.023835,
     "end_time": "2023-04-05T03:50:45.352992",
     "exception": false,
     "start_time": "2023-04-05T03:50:45.329157",
     "status": "completed"
    },
    "tags": []
   },
   "outputs": [
    {
     "data": {
      "text/plain": [
       "(37800, 28, 28, 1)"
      ]
     },
     "execution_count": 22,
     "metadata": {},
     "output_type": "execute_result"
    }
   ],
   "source": [
    "x.shape"
   ]
  },
  {
   "cell_type": "code",
   "execution_count": 23,
   "id": "edc96a81",
   "metadata": {
    "execution": {
     "iopub.execute_input": "2023-04-05T03:50:45.381014Z",
     "iopub.status.busy": "2023-04-05T03:50:45.379975Z",
     "iopub.status.idle": "2023-04-05T03:50:45.457638Z",
     "shell.execute_reply": "2023-04-05T03:50:45.456192Z"
    },
    "papermill": {
     "duration": 0.094981,
     "end_time": "2023-04-05T03:50:45.460720",
     "exception": false,
     "start_time": "2023-04-05T03:50:45.365739",
     "status": "completed"
    },
    "tags": []
   },
   "outputs": [],
   "source": [
    "train_images = x\n",
    "train_images = train_images.astype('float32') / 255"
   ]
  },
  {
   "cell_type": "code",
   "execution_count": 24,
   "id": "1e0fad6e",
   "metadata": {
    "execution": {
     "iopub.execute_input": "2023-04-05T03:50:45.488054Z",
     "iopub.status.busy": "2023-04-05T03:50:45.487549Z",
     "iopub.status.idle": "2023-04-05T03:50:45.614464Z",
     "shell.execute_reply": "2023-04-05T03:50:45.613126Z"
    },
    "papermill": {
     "duration": 0.144336,
     "end_time": "2023-04-05T03:50:45.617496",
     "exception": false,
     "start_time": "2023-04-05T03:50:45.473160",
     "status": "completed"
    },
    "tags": []
   },
   "outputs": [],
   "source": [
    "x_test = np.array(x_test).reshape(x_test.shape[0], 28, 28, 1)"
   ]
  },
  {
   "cell_type": "code",
   "execution_count": 25,
   "id": "b2b3eaa6",
   "metadata": {
    "execution": {
     "iopub.execute_input": "2023-04-05T03:50:45.645238Z",
     "iopub.status.busy": "2023-04-05T03:50:45.644151Z",
     "iopub.status.idle": "2023-04-05T03:50:45.725327Z",
     "shell.execute_reply": "2023-04-05T03:50:45.723696Z"
    },
    "papermill": {
     "duration": 0.098631,
     "end_time": "2023-04-05T03:50:45.728543",
     "exception": false,
     "start_time": "2023-04-05T03:50:45.629912",
     "status": "completed"
    },
    "tags": []
   },
   "outputs": [
    {
     "data": {
      "text/plain": [
       "(28000, 28, 28, 1)"
      ]
     },
     "execution_count": 25,
     "metadata": {},
     "output_type": "execute_result"
    }
   ],
   "source": [
    "test_images = x_test\n",
    "test_images = test_images.astype('float32') / 255\n",
    "\n",
    "test_images.shape"
   ]
  },
  {
   "cell_type": "code",
   "execution_count": 26,
   "id": "327f11d7",
   "metadata": {
    "execution": {
     "iopub.execute_input": "2023-04-05T03:50:45.756343Z",
     "iopub.status.busy": "2023-04-05T03:50:45.755930Z",
     "iopub.status.idle": "2023-04-05T03:50:45.779317Z",
     "shell.execute_reply": "2023-04-05T03:50:45.777767Z"
    },
    "papermill": {
     "duration": 0.040553,
     "end_time": "2023-04-05T03:50:45.782379",
     "exception": false,
     "start_time": "2023-04-05T03:50:45.741826",
     "status": "completed"
    },
    "tags": []
   },
   "outputs": [],
   "source": [
    "x_val = np.array(x_val).reshape(x_val.shape[0], 28, 28, 1)"
   ]
  },
  {
   "cell_type": "code",
   "execution_count": 27,
   "id": "73d45fe6",
   "metadata": {
    "execution": {
     "iopub.execute_input": "2023-04-05T03:50:45.810993Z",
     "iopub.status.busy": "2023-04-05T03:50:45.810600Z",
     "iopub.status.idle": "2023-04-05T03:50:45.830115Z",
     "shell.execute_reply": "2023-04-05T03:50:45.828530Z"
    },
    "papermill": {
     "duration": 0.037834,
     "end_time": "2023-04-05T03:50:45.833315",
     "exception": false,
     "start_time": "2023-04-05T03:50:45.795481",
     "status": "completed"
    },
    "tags": []
   },
   "outputs": [
    {
     "data": {
      "text/plain": [
       "(4200, 28, 28, 1)"
      ]
     },
     "execution_count": 27,
     "metadata": {},
     "output_type": "execute_result"
    }
   ],
   "source": [
    "x_val = x_val.astype('float32') / 255\n",
    "\n",
    "x_val.shape"
   ]
  },
  {
   "cell_type": "code",
   "execution_count": 28,
   "id": "1c8d0f2c",
   "metadata": {
    "execution": {
     "iopub.execute_input": "2023-04-05T03:50:45.862638Z",
     "iopub.status.busy": "2023-04-05T03:50:45.862189Z",
     "iopub.status.idle": "2023-04-05T03:50:45.870125Z",
     "shell.execute_reply": "2023-04-05T03:50:45.868720Z"
    },
    "papermill": {
     "duration": 0.026283,
     "end_time": "2023-04-05T03:50:45.872892",
     "exception": false,
     "start_time": "2023-04-05T03:50:45.846609",
     "status": "completed"
    },
    "tags": []
   },
   "outputs": [
    {
     "data": {
      "text/plain": [
       "(37800, 10)"
      ]
     },
     "execution_count": 28,
     "metadata": {},
     "output_type": "execute_result"
    }
   ],
   "source": [
    "y.shape"
   ]
  },
  {
   "cell_type": "code",
   "execution_count": 29,
   "id": "3a9555b1",
   "metadata": {
    "execution": {
     "iopub.execute_input": "2023-04-05T03:50:45.901833Z",
     "iopub.status.busy": "2023-04-05T03:50:45.900859Z",
     "iopub.status.idle": "2023-04-05T03:50:45.908045Z",
     "shell.execute_reply": "2023-04-05T03:50:45.906896Z"
    },
    "papermill": {
     "duration": 0.024571,
     "end_time": "2023-04-05T03:50:45.910536",
     "exception": false,
     "start_time": "2023-04-05T03:50:45.885965",
     "status": "completed"
    },
    "tags": []
   },
   "outputs": [
    {
     "data": {
      "text/plain": [
       "(42000, 10)"
      ]
     },
     "execution_count": 29,
     "metadata": {},
     "output_type": "execute_result"
    }
   ],
   "source": [
    "y_train.shape"
   ]
  },
  {
   "cell_type": "code",
   "execution_count": 30,
   "id": "749460b1",
   "metadata": {
    "execution": {
     "iopub.execute_input": "2023-04-05T03:50:45.938481Z",
     "iopub.status.busy": "2023-04-05T03:50:45.938030Z",
     "iopub.status.idle": "2023-04-05T03:50:45.946115Z",
     "shell.execute_reply": "2023-04-05T03:50:45.944907Z"
    },
    "papermill": {
     "duration": 0.025392,
     "end_time": "2023-04-05T03:50:45.948889",
     "exception": false,
     "start_time": "2023-04-05T03:50:45.923497",
     "status": "completed"
    },
    "tags": []
   },
   "outputs": [
    {
     "data": {
      "text/plain": [
       "array([[0, 0, 0, ..., 0, 1, 0],\n",
       "       [0, 0, 0, ..., 0, 0, 0],\n",
       "       [0, 0, 0, ..., 0, 0, 0],\n",
       "       ...,\n",
       "       [0, 0, 1, ..., 0, 0, 0],\n",
       "       [0, 0, 0, ..., 0, 0, 0],\n",
       "       [1, 0, 0, ..., 0, 0, 0]], dtype=uint8)"
      ]
     },
     "execution_count": 30,
     "metadata": {},
     "output_type": "execute_result"
    }
   ],
   "source": [
    "y"
   ]
  },
  {
   "cell_type": "code",
   "execution_count": 31,
   "id": "299898df",
   "metadata": {
    "execution": {
     "iopub.execute_input": "2023-04-05T03:50:45.978073Z",
     "iopub.status.busy": "2023-04-05T03:50:45.977077Z",
     "iopub.status.idle": "2023-04-05T03:50:45.998588Z",
     "shell.execute_reply": "2023-04-05T03:50:45.997215Z"
    },
    "papermill": {
     "duration": 0.039284,
     "end_time": "2023-04-05T03:50:46.001681",
     "exception": false,
     "start_time": "2023-04-05T03:50:45.962397",
     "status": "completed"
    },
    "tags": []
   },
   "outputs": [],
   "source": [
    "model.compile(loss='categorical_crossentropy',\n",
    "              optimizer='rmsprop',\n",
    "              metrics=['accuracy'])"
   ]
  },
  {
   "cell_type": "code",
   "execution_count": 32,
   "id": "63012c19",
   "metadata": {
    "execution": {
     "iopub.execute_input": "2023-04-05T03:50:46.030386Z",
     "iopub.status.busy": "2023-04-05T03:50:46.029951Z",
     "iopub.status.idle": "2023-04-05T03:58:09.104840Z",
     "shell.execute_reply": "2023-04-05T03:58:09.103517Z"
    },
    "papermill": {
     "duration": 443.092801,
     "end_time": "2023-04-05T03:58:09.107740",
     "exception": false,
     "start_time": "2023-04-05T03:50:46.014939",
     "status": "completed"
    },
    "tags": []
   },
   "outputs": [
    {
     "name": "stdout",
     "output_type": "stream",
     "text": [
      "Epoch 1/20\n",
      "378/378 [==============================] - 23s 58ms/step - loss: 0.2495 - accuracy: 0.9241 - val_loss: 0.1068 - val_accuracy: 0.9662\n",
      "Epoch 2/20\n",
      "378/378 [==============================] - 21s 56ms/step - loss: 0.0653 - accuracy: 0.9806 - val_loss: 0.0638 - val_accuracy: 0.9805\n",
      "Epoch 3/20\n",
      "378/378 [==============================] - 21s 56ms/step - loss: 0.0427 - accuracy: 0.9869 - val_loss: 0.0607 - val_accuracy: 0.9821\n",
      "Epoch 4/20\n",
      "378/378 [==============================] - 21s 57ms/step - loss: 0.0341 - accuracy: 0.9893 - val_loss: 0.0448 - val_accuracy: 0.9857\n",
      "Epoch 5/20\n",
      "378/378 [==============================] - 21s 56ms/step - loss: 0.0270 - accuracy: 0.9915 - val_loss: 0.0384 - val_accuracy: 0.9881\n",
      "Epoch 6/20\n",
      "378/378 [==============================] - 21s 56ms/step - loss: 0.0212 - accuracy: 0.9936 - val_loss: 0.0371 - val_accuracy: 0.9895\n",
      "Epoch 7/20\n",
      "378/378 [==============================] - 21s 57ms/step - loss: 0.0181 - accuracy: 0.9943 - val_loss: 0.0366 - val_accuracy: 0.9871\n",
      "Epoch 8/20\n",
      "378/378 [==============================] - 21s 57ms/step - loss: 0.0147 - accuracy: 0.9954 - val_loss: 0.0407 - val_accuracy: 0.9871\n",
      "Epoch 9/20\n",
      "378/378 [==============================] - 21s 56ms/step - loss: 0.0123 - accuracy: 0.9962 - val_loss: 0.0417 - val_accuracy: 0.9871\n",
      "Epoch 10/20\n",
      "378/378 [==============================] - 21s 56ms/step - loss: 0.0100 - accuracy: 0.9967 - val_loss: 0.0452 - val_accuracy: 0.9867\n",
      "Epoch 11/20\n",
      "378/378 [==============================] - 21s 56ms/step - loss: 0.0086 - accuracy: 0.9975 - val_loss: 0.0366 - val_accuracy: 0.9907\n",
      "Epoch 12/20\n",
      "378/378 [==============================] - 21s 55ms/step - loss: 0.0070 - accuracy: 0.9978 - val_loss: 0.0382 - val_accuracy: 0.9898\n",
      "Epoch 13/20\n",
      "378/378 [==============================] - 21s 57ms/step - loss: 0.0056 - accuracy: 0.9986 - val_loss: 0.0546 - val_accuracy: 0.9869\n",
      "Epoch 14/20\n",
      "378/378 [==============================] - 21s 56ms/step - loss: 0.0046 - accuracy: 0.9988 - val_loss: 0.0529 - val_accuracy: 0.9893\n",
      "Epoch 15/20\n",
      "378/378 [==============================] - 21s 56ms/step - loss: 0.0038 - accuracy: 0.9990 - val_loss: 0.0455 - val_accuracy: 0.9876\n",
      "Epoch 16/20\n",
      "378/378 [==============================] - 21s 57ms/step - loss: 0.0035 - accuracy: 0.9991 - val_loss: 0.0425 - val_accuracy: 0.9902\n",
      "Epoch 17/20\n",
      "378/378 [==============================] - 21s 56ms/step - loss: 0.0026 - accuracy: 0.9994 - val_loss: 0.0460 - val_accuracy: 0.9890\n",
      "Epoch 18/20\n",
      "378/378 [==============================] - 21s 56ms/step - loss: 0.0020 - accuracy: 0.9995 - val_loss: 0.0487 - val_accuracy: 0.9890\n",
      "Epoch 19/20\n",
      "378/378 [==============================] - 21s 56ms/step - loss: 0.0018 - accuracy: 0.9996 - val_loss: 0.0453 - val_accuracy: 0.9905\n",
      "Epoch 20/20\n",
      "378/378 [==============================] - 21s 57ms/step - loss: 0.0012 - accuracy: 0.9998 - val_loss: 0.0493 - val_accuracy: 0.9905\n"
     ]
    },
    {
     "data": {
      "text/plain": [
       "<keras.callbacks.History at 0x7abc903d5b10>"
      ]
     },
     "execution_count": 32,
     "metadata": {},
     "output_type": "execute_result"
    }
   ],
   "source": [
    "# Use the training data to train the model\n",
    "model.fit(train_images, y,\n",
    "          validation_data = (x_val,y_val),\n",
    "          batch_size=100,\n",
    "          epochs=20,\n",
    "          verbose=1)\n",
    "\n"
   ]
  },
  {
   "cell_type": "code",
   "execution_count": 33,
   "id": "4e2015a7",
   "metadata": {
    "execution": {
     "iopub.execute_input": "2023-04-05T03:58:10.199724Z",
     "iopub.status.busy": "2023-04-05T03:58:10.198889Z",
     "iopub.status.idle": "2023-04-05T03:58:16.899046Z",
     "shell.execute_reply": "2023-04-05T03:58:16.897697Z"
    },
    "papermill": {
     "duration": 7.203923,
     "end_time": "2023-04-05T03:58:16.902395",
     "exception": false,
     "start_time": "2023-04-05T03:58:09.698472",
     "status": "completed"
    },
    "tags": []
   },
   "outputs": [
    {
     "name": "stdout",
     "output_type": "stream",
     "text": [
      "875/875 [==============================] - 6s 7ms/step\n"
     ]
    }
   ],
   "source": [
    "preds_test = model.predict(x_test)"
   ]
  },
  {
   "cell_type": "code",
   "execution_count": 34,
   "id": "e5d027bf",
   "metadata": {
    "execution": {
     "iopub.execute_input": "2023-04-05T03:58:17.922212Z",
     "iopub.status.busy": "2023-04-05T03:58:17.921303Z",
     "iopub.status.idle": "2023-04-05T03:58:17.929071Z",
     "shell.execute_reply": "2023-04-05T03:58:17.927587Z"
    },
    "papermill": {
     "duration": 0.520193,
     "end_time": "2023-04-05T03:58:17.931682",
     "exception": false,
     "start_time": "2023-04-05T03:58:17.411489",
     "status": "completed"
    },
    "tags": []
   },
   "outputs": [],
   "source": [
    "preds_test = np.argmax(preds_test,axis = 1)\n",
    "\n",
    "results = pd.Series(preds_test,name=\"Label\")"
   ]
  },
  {
   "cell_type": "code",
   "execution_count": 35,
   "id": "cf8e9d1f",
   "metadata": {
    "execution": {
     "iopub.execute_input": "2023-04-05T03:58:19.011308Z",
     "iopub.status.busy": "2023-04-05T03:58:19.010748Z",
     "iopub.status.idle": "2023-04-05T03:58:19.052984Z",
     "shell.execute_reply": "2023-04-05T03:58:19.051408Z"
    },
    "papermill": {
     "duration": 0.549109,
     "end_time": "2023-04-05T03:58:19.055949",
     "exception": false,
     "start_time": "2023-04-05T03:58:18.506840",
     "status": "completed"
    },
    "tags": []
   },
   "outputs": [],
   "source": [
    "output = pd.DataFrame({'ImageId': test_id,\n",
    "                       'Label': preds_test})\n",
    "\n",
    "output.to_csv('submission.csv', index=False)"
   ]
  }
 ],
 "metadata": {
  "kernelspec": {
   "display_name": "Python 3",
   "language": "python",
   "name": "python3"
  },
  "language_info": {
   "codemirror_mode": {
    "name": "ipython",
    "version": 3
   },
   "file_extension": ".py",
   "mimetype": "text/x-python",
   "name": "python",
   "nbconvert_exporter": "python",
   "pygments_lexer": "ipython3",
   "version": "3.7.12"
  },
  "papermill": {
   "default_parameters": {},
   "duration": 488.29572,
   "end_time": "2023-04-05T03:58:22.769139",
   "environment_variables": {},
   "exception": null,
   "input_path": "__notebook__.ipynb",
   "output_path": "__notebook__.ipynb",
   "parameters": {},
   "start_time": "2023-04-05T03:50:14.473419",
   "version": "2.4.0"
  }
 },
 "nbformat": 4,
 "nbformat_minor": 5
}
